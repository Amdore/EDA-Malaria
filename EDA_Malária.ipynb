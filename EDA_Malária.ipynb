{
  "nbformat": 4,
  "nbformat_minor": 0,
  "metadata": {
    "colab": {
      "provenance": [],
      "collapsed_sections": [],
      "authorship_tag": "ABX9TyNqzR39AT0Fz/DWQcQNNU7V",
      "include_colab_link": true
    },
    "kernelspec": {
      "name": "python3",
      "display_name": "Python 3"
    },
    "language_info": {
      "name": "python"
    }
  },
  "cells": [
    {
      "cell_type": "markdown",
      "metadata": {
        "id": "view-in-github",
        "colab_type": "text"
      },
      "source": [
        "<a href=\"https://colab.research.google.com/github/Amdore/EDA-Malaria/blob/main/EDA_Mal%C3%A1ria.ipynb\" target=\"_parent\"><img src=\"https://colab.research.google.com/assets/colab-badge.svg\" alt=\"Open In Colab\"/></a>"
      ]
    },
    {
      "cell_type": "markdown",
      "source": [
        "### **Metodologia CRISP - DM**\n",
        "\n",
        "O projeto utilizou-se da metodologia CRISP-DM (Cross Industry Process Model for Data Mining) adaptada para projetos em Data Science - DS (Análise Exploratória de Dados, Machine Learning, Deep Learning, dentre outras aplicações). A referida metodologia baseia-se em 06 (seis) etapas, a saber: Entendimento do Negócio, Entendimento dos Dados, Preparação dos Dados, Construção dos Modelos, Avaliação e Implementação.\n",
        "\n",
        "<img alt=\"Colaboratory logo\" width=\"75%\" src=\"https://raw.githubusercontent.com/consultantleonardoferreira/Projetos-em-Data-Science/master/crisphorizontal.png\">"
      ],
      "metadata": {
        "id": "0mOdWLNmA6CI"
      }
    },
    {
      "cell_type": "markdown",
      "source": [
        "##A- Entendendo o Negócio\n",
        "\n",
        "Nesta etapa serão estudados os objetivos do negócio, avaliada a situação negócio (quais problemas a serem resolvidos?), bem como determinado as metas e ou objetivos para o projeto de Data Science (quais objetivos e métricas de sucesso?)"
      ],
      "metadata": {
        "id": "niOpjnZiA6Iw"
      }
    },
    {
      "cell_type": "markdown",
      "source": [
        "####**A1.Objetivos do Negócio**\n",
        "\n",
        "A malária é uma doença transmitida pela picada de um mosquito do gênero Anopheles que esteja infectada pr um protozoário do gênero Plasmodium. É uma doença mundialmente conhecida e que inclusive afeta o Brasil, sendo assim uma preocupação para o Ministério da Saúde e outras instituições, como a OMS.\n",
        "Abaixo temos dois curtos vídeos, em inglês, sobre o tópico:\n",
        "<br><br>\n",
        " * [Transmissão da malária para humanos (Parte 1)](https://www.youtube.com/watch?v=1v55yg0RfoY)<br>\n",
        " \n",
        " \n",
        "* [Transmissão da malária para humanos (Parte 2)](https://www.youtube.com/watch?v=MxiWp8vkRFI)\n",
        " \n",
        "\n",
        "<br><br>\n",
        "\n",
        "####**A2.Quais os problemas a serem resovidos?**\n",
        "\n",
        " O objetivo desta Análise Exploratória de Dados é responder perguntas e detectar padrões que vão ajudar a melhor entender a doença:\n",
        " \n",
        " * Quais são os países mais afetados pela Malária? Eles tem algum fator em comum?\n",
        " \n",
        "\n",
        "\n",
        "####**A3.Quais são as métricas para aferição do sucesso do projeto de DS?**\n",
        "\n",
        "Respostas para as perguntas do item A2 bem como o tratamento devido dos dados utilizados nessa análise."
      ],
      "metadata": {
        "id": "bpx4nm_KA6eY"
      }
    },
    {
      "cell_type": "markdown",
      "source": [
        "##B-Entendendo os Dados\n",
        "\n",
        "\n",
        "Nesta etapa estaremos coletando os dados iniciais, descrevendo os referidos dados, bem como explorando os dados com as estatísticas descritivas e por fim, verificando a qualidade de dados."
      ],
      "metadata": {
        "id": "KmAH-L3YA6gW"
      }
    },
    {
      "cell_type": "markdown",
      "source": [
        "####**B1. Coletando os dados iniciais**\n",
        "\n",
        "Precisaremos importar os pacotes do Python necessários para a execução deste projeto. "
      ],
      "metadata": {
        "id": "rB2LB4TaO6wm"
      }
    },
    {
      "cell_type": "code",
      "source": [
        "# Importando bibliotecas\n",
        "import pandas as pd\n",
        "import seaborn as sns\n",
        "import matplotlib\n",
        "from matplotlib import pyplot as plt\n",
        "\n"
      ],
      "metadata": {
        "id": "4WatratNO5pm"
      },
      "execution_count": 15,
      "outputs": []
    },
    {
      "cell_type": "markdown",
      "source": [
        "Além disso, para essa análise usaremos um conjunto de arquivos .csv do site Kaggle:\n",
        "\n",
        "* [Malaria Our World In Data](https://www.kaggle.com/datasets/programmerrdai/malaria)\n",
        "<br><br>\n",
        "* [No. of cases from different countries from 2010](https://www.kaggle.com/datasets/imdevskp/malaria-dataset?select=reported_numbers.csv)"
      ],
      "metadata": {
        "id": "RCI7w3nJSEml"
      }
    },
    {
      "cell_type": "markdown",
      "source": [
        "Analisando o primeiro conjunto de dataframes:"
      ],
      "metadata": {
        "id": "bcF9e_Q3SHvX"
      }
    },
    {
      "cell_type": "code",
      "source": [
        "bednet = pd.read_csv('children-sleeping-under-treated-bednet.csv')\n",
        "deaths_world_region = pd.read_csv('deaths-world-region.csv')\n",
        "incidence = pd.read_csv('incidence-of-malaria.csv')\n",
        "death_rates_age = pd.read_csv('malaria-death-rates-by-age.csv')\n",
        "death_rates = pd.read_csv('malaria-death-rates.csv')\n",
        "deaths_by_region = pd.read_csv('malaria-deaths-by-region.csv')\n",
        "comparisons = pd.read_csv('malaria-deaths-comparisons.csv')\n",
        "pib = pd.read_csv('malaria-prevalence-vs-gdp-per-capita.csv')\n"
      ],
      "metadata": {
        "id": "ZbLLYNTnSNN3"
      },
      "execution_count": 14,
      "outputs": []
    },
    {
      "cell_type": "code",
      "source": [
        "# Pegando informações do df bednet\n",
        "\n",
        "display(bednet.dtypes)\n",
        "bednet.shape\n",
        "\n",
        "bednet.head()\n",
        "\n"
      ],
      "metadata": {
        "colab": {
          "base_uri": "https://localhost:8080/",
          "height": 293
        },
        "id": "-jppUtlIVGjs",
        "outputId": "7b537c9a-5a4b-42e4-da21-57b6ab3b11ce"
      },
      "execution_count": null,
      "outputs": [
        {
          "output_type": "display_data",
          "data": {
            "text/plain": [
              "Entity                                                            object\n",
              "Code                                                              object\n",
              "Year                                                               int64\n",
              "Use of insecticide-treated bed nets (% of under-5 population)    float64\n",
              "dtype: object"
            ]
          },
          "metadata": {}
        },
        {
          "output_type": "execute_result",
          "data": {
            "text/plain": [
              "     Entity Code  Year  \\\n",
              "0    Gambia  GMB  2020   \n",
              "1   Liberia  LBR  2020   \n",
              "2  Zimbabwe  ZWE  2019   \n",
              "3     Ghana  GHA  2019   \n",
              "4   Senegal  SEN  2019   \n",
              "\n",
              "   Use of insecticide-treated bed nets (% of under-5 population)  \n",
              "0                                          44.000000              \n",
              "1                                          44.299999              \n",
              "2                                          14.900000              \n",
              "3                                          54.099998              \n",
              "4                                          65.400002              "
            ],
            "text/html": [
              "\n",
              "  <div id=\"df-90f3db29-3863-4227-ae44-3334f877ea24\">\n",
              "    <div class=\"colab-df-container\">\n",
              "      <div>\n",
              "<style scoped>\n",
              "    .dataframe tbody tr th:only-of-type {\n",
              "        vertical-align: middle;\n",
              "    }\n",
              "\n",
              "    .dataframe tbody tr th {\n",
              "        vertical-align: top;\n",
              "    }\n",
              "\n",
              "    .dataframe thead th {\n",
              "        text-align: right;\n",
              "    }\n",
              "</style>\n",
              "<table border=\"1\" class=\"dataframe\">\n",
              "  <thead>\n",
              "    <tr style=\"text-align: right;\">\n",
              "      <th></th>\n",
              "      <th>Entity</th>\n",
              "      <th>Code</th>\n",
              "      <th>Year</th>\n",
              "      <th>Use of insecticide-treated bed nets (% of under-5 population)</th>\n",
              "    </tr>\n",
              "  </thead>\n",
              "  <tbody>\n",
              "    <tr>\n",
              "      <th>0</th>\n",
              "      <td>Gambia</td>\n",
              "      <td>GMB</td>\n",
              "      <td>2020</td>\n",
              "      <td>44.000000</td>\n",
              "    </tr>\n",
              "    <tr>\n",
              "      <th>1</th>\n",
              "      <td>Liberia</td>\n",
              "      <td>LBR</td>\n",
              "      <td>2020</td>\n",
              "      <td>44.299999</td>\n",
              "    </tr>\n",
              "    <tr>\n",
              "      <th>2</th>\n",
              "      <td>Zimbabwe</td>\n",
              "      <td>ZWE</td>\n",
              "      <td>2019</td>\n",
              "      <td>14.900000</td>\n",
              "    </tr>\n",
              "    <tr>\n",
              "      <th>3</th>\n",
              "      <td>Ghana</td>\n",
              "      <td>GHA</td>\n",
              "      <td>2019</td>\n",
              "      <td>54.099998</td>\n",
              "    </tr>\n",
              "    <tr>\n",
              "      <th>4</th>\n",
              "      <td>Senegal</td>\n",
              "      <td>SEN</td>\n",
              "      <td>2019</td>\n",
              "      <td>65.400002</td>\n",
              "    </tr>\n",
              "  </tbody>\n",
              "</table>\n",
              "</div>\n",
              "      <button class=\"colab-df-convert\" onclick=\"convertToInteractive('df-90f3db29-3863-4227-ae44-3334f877ea24')\"\n",
              "              title=\"Convert this dataframe to an interactive table.\"\n",
              "              style=\"display:none;\">\n",
              "        \n",
              "  <svg xmlns=\"http://www.w3.org/2000/svg\" height=\"24px\"viewBox=\"0 0 24 24\"\n",
              "       width=\"24px\">\n",
              "    <path d=\"M0 0h24v24H0V0z\" fill=\"none\"/>\n",
              "    <path d=\"M18.56 5.44l.94 2.06.94-2.06 2.06-.94-2.06-.94-.94-2.06-.94 2.06-2.06.94zm-11 1L8.5 8.5l.94-2.06 2.06-.94-2.06-.94L8.5 2.5l-.94 2.06-2.06.94zm10 10l.94 2.06.94-2.06 2.06-.94-2.06-.94-.94-2.06-.94 2.06-2.06.94z\"/><path d=\"M17.41 7.96l-1.37-1.37c-.4-.4-.92-.59-1.43-.59-.52 0-1.04.2-1.43.59L10.3 9.45l-7.72 7.72c-.78.78-.78 2.05 0 2.83L4 21.41c.39.39.9.59 1.41.59.51 0 1.02-.2 1.41-.59l7.78-7.78 2.81-2.81c.8-.78.8-2.07 0-2.86zM5.41 20L4 18.59l7.72-7.72 1.47 1.35L5.41 20z\"/>\n",
              "  </svg>\n",
              "      </button>\n",
              "      \n",
              "  <style>\n",
              "    .colab-df-container {\n",
              "      display:flex;\n",
              "      flex-wrap:wrap;\n",
              "      gap: 12px;\n",
              "    }\n",
              "\n",
              "    .colab-df-convert {\n",
              "      background-color: #E8F0FE;\n",
              "      border: none;\n",
              "      border-radius: 50%;\n",
              "      cursor: pointer;\n",
              "      display: none;\n",
              "      fill: #1967D2;\n",
              "      height: 32px;\n",
              "      padding: 0 0 0 0;\n",
              "      width: 32px;\n",
              "    }\n",
              "\n",
              "    .colab-df-convert:hover {\n",
              "      background-color: #E2EBFA;\n",
              "      box-shadow: 0px 1px 2px rgba(60, 64, 67, 0.3), 0px 1px 3px 1px rgba(60, 64, 67, 0.15);\n",
              "      fill: #174EA6;\n",
              "    }\n",
              "\n",
              "    [theme=dark] .colab-df-convert {\n",
              "      background-color: #3B4455;\n",
              "      fill: #D2E3FC;\n",
              "    }\n",
              "\n",
              "    [theme=dark] .colab-df-convert:hover {\n",
              "      background-color: #434B5C;\n",
              "      box-shadow: 0px 1px 3px 1px rgba(0, 0, 0, 0.15);\n",
              "      filter: drop-shadow(0px 1px 2px rgba(0, 0, 0, 0.3));\n",
              "      fill: #FFFFFF;\n",
              "    }\n",
              "  </style>\n",
              "\n",
              "      <script>\n",
              "        const buttonEl =\n",
              "          document.querySelector('#df-90f3db29-3863-4227-ae44-3334f877ea24 button.colab-df-convert');\n",
              "        buttonEl.style.display =\n",
              "          google.colab.kernel.accessAllowed ? 'block' : 'none';\n",
              "\n",
              "        async function convertToInteractive(key) {\n",
              "          const element = document.querySelector('#df-90f3db29-3863-4227-ae44-3334f877ea24');\n",
              "          const dataTable =\n",
              "            await google.colab.kernel.invokeFunction('convertToInteractive',\n",
              "                                                     [key], {});\n",
              "          if (!dataTable) return;\n",
              "\n",
              "          const docLinkHtml = 'Like what you see? Visit the ' +\n",
              "            '<a target=\"_blank\" href=https://colab.research.google.com/notebooks/data_table.ipynb>data table notebook</a>'\n",
              "            + ' to learn more about interactive tables.';\n",
              "          element.innerHTML = '';\n",
              "          dataTable['output_type'] = 'display_data';\n",
              "          await google.colab.output.renderOutput(dataTable, element);\n",
              "          const docLink = document.createElement('div');\n",
              "          docLink.innerHTML = docLinkHtml;\n",
              "          element.appendChild(docLink);\n",
              "        }\n",
              "      </script>\n",
              "    </div>\n",
              "  </div>\n",
              "  "
            ]
          },
          "metadata": {},
          "execution_count": 10
        }
      ]
    },
    {
      "cell_type": "markdown",
      "source": [
        "Podemos ver que este é um dataframe bem pequeno, com apenas 4 colunas. O nome do arquivo é bem peculiar também; bednet nesse caso se refere à uma medida de prevenção da malária(Insecticide-Treated Bed Nets, ou ITNs) onde se cobre a cama com uma rede com inseticida para impedir os mosquitos que transmitem malária de picar as pessoas durante o sono. Especialmente eficaz na prevenção para crianças abaixo de 5 anos.\n",
        "\n",
        "<img alt =\"bednet\" width=\"100%\" src=\"https://www.usaid.gov/sites/default/files/styles/732_width/public/pressreleases/WMD_1_0.JPG?itok=NO6W5ivO\">\n",
        "\n",
        "Com isso em mente, a coluna \"Use of insecticide-treated bed nets (% of under-5 population)\" faz mais sentido, pois retrata a porcentagem da população daquele país abaixo de 5 anos de idade que usam ITNs."
      ],
      "metadata": {
        "id": "ZA6gfQnLgJFF"
      }
    },
    {
      "cell_type": "markdown",
      "source": [
        "##C-Preparação dos Dados"
      ],
      "metadata": {
        "id": "syzpDSgJCf5H"
      }
    },
    {
      "cell_type": "markdown",
      "source": [
        "De acordo com o código acima, o dataframe nomeado de \"bednet\" tem apenas 4 colunas, este também organizou a tabela pela ordem alfabética, o que dificulta a leitura porque tem países repetidos nessa tabela, em função do ano registrado."
      ],
      "metadata": {
        "id": "KHqwwUYZVw3O"
      }
    },
    {
      "cell_type": "code",
      "source": [
        "bednet = bednet.sort_values(by=['Year'],ascending=False).copy()\n",
        "\n",
        "\n",
        "\n",
        "bednet.head()"
      ],
      "metadata": {
        "colab": {
          "base_uri": "https://localhost:8080/",
          "height": 206
        },
        "id": "RCNnICqJVb4d",
        "outputId": "2e835f4d-96c4-46b4-e2aa-1a56101ab1a5"
      },
      "execution_count": null,
      "outputs": [
        {
          "output_type": "execute_result",
          "data": {
            "text/plain": [
              "       Entity Code  Year  \\\n",
              "76     Gambia  GMB  2020   \n",
              "122   Liberia  LBR  2020   \n",
              "277  Zimbabwe  ZWE  2019   \n",
              "84      Ghana  GHA  2019   \n",
              "202   Senegal  SEN  2019   \n",
              "\n",
              "     Use of insecticide-treated bed nets (% of under-5 population)  \n",
              "76                                           44.000000              \n",
              "122                                          44.299999              \n",
              "277                                          14.900000              \n",
              "84                                           54.099998              \n",
              "202                                          65.400002              "
            ],
            "text/html": [
              "\n",
              "  <div id=\"df-6bd0ea5b-dde0-44c4-a5e6-e58056033a05\">\n",
              "    <div class=\"colab-df-container\">\n",
              "      <div>\n",
              "<style scoped>\n",
              "    .dataframe tbody tr th:only-of-type {\n",
              "        vertical-align: middle;\n",
              "    }\n",
              "\n",
              "    .dataframe tbody tr th {\n",
              "        vertical-align: top;\n",
              "    }\n",
              "\n",
              "    .dataframe thead th {\n",
              "        text-align: right;\n",
              "    }\n",
              "</style>\n",
              "<table border=\"1\" class=\"dataframe\">\n",
              "  <thead>\n",
              "    <tr style=\"text-align: right;\">\n",
              "      <th></th>\n",
              "      <th>Entity</th>\n",
              "      <th>Code</th>\n",
              "      <th>Year</th>\n",
              "      <th>Use of insecticide-treated bed nets (% of under-5 population)</th>\n",
              "    </tr>\n",
              "  </thead>\n",
              "  <tbody>\n",
              "    <tr>\n",
              "      <th>76</th>\n",
              "      <td>Gambia</td>\n",
              "      <td>GMB</td>\n",
              "      <td>2020</td>\n",
              "      <td>44.000000</td>\n",
              "    </tr>\n",
              "    <tr>\n",
              "      <th>122</th>\n",
              "      <td>Liberia</td>\n",
              "      <td>LBR</td>\n",
              "      <td>2020</td>\n",
              "      <td>44.299999</td>\n",
              "    </tr>\n",
              "    <tr>\n",
              "      <th>277</th>\n",
              "      <td>Zimbabwe</td>\n",
              "      <td>ZWE</td>\n",
              "      <td>2019</td>\n",
              "      <td>14.900000</td>\n",
              "    </tr>\n",
              "    <tr>\n",
              "      <th>84</th>\n",
              "      <td>Ghana</td>\n",
              "      <td>GHA</td>\n",
              "      <td>2019</td>\n",
              "      <td>54.099998</td>\n",
              "    </tr>\n",
              "    <tr>\n",
              "      <th>202</th>\n",
              "      <td>Senegal</td>\n",
              "      <td>SEN</td>\n",
              "      <td>2019</td>\n",
              "      <td>65.400002</td>\n",
              "    </tr>\n",
              "  </tbody>\n",
              "</table>\n",
              "</div>\n",
              "      <button class=\"colab-df-convert\" onclick=\"convertToInteractive('df-6bd0ea5b-dde0-44c4-a5e6-e58056033a05')\"\n",
              "              title=\"Convert this dataframe to an interactive table.\"\n",
              "              style=\"display:none;\">\n",
              "        \n",
              "  <svg xmlns=\"http://www.w3.org/2000/svg\" height=\"24px\"viewBox=\"0 0 24 24\"\n",
              "       width=\"24px\">\n",
              "    <path d=\"M0 0h24v24H0V0z\" fill=\"none\"/>\n",
              "    <path d=\"M18.56 5.44l.94 2.06.94-2.06 2.06-.94-2.06-.94-.94-2.06-.94 2.06-2.06.94zm-11 1L8.5 8.5l.94-2.06 2.06-.94-2.06-.94L8.5 2.5l-.94 2.06-2.06.94zm10 10l.94 2.06.94-2.06 2.06-.94-2.06-.94-.94-2.06-.94 2.06-2.06.94z\"/><path d=\"M17.41 7.96l-1.37-1.37c-.4-.4-.92-.59-1.43-.59-.52 0-1.04.2-1.43.59L10.3 9.45l-7.72 7.72c-.78.78-.78 2.05 0 2.83L4 21.41c.39.39.9.59 1.41.59.51 0 1.02-.2 1.41-.59l7.78-7.78 2.81-2.81c.8-.78.8-2.07 0-2.86zM5.41 20L4 18.59l7.72-7.72 1.47 1.35L5.41 20z\"/>\n",
              "  </svg>\n",
              "      </button>\n",
              "      \n",
              "  <style>\n",
              "    .colab-df-container {\n",
              "      display:flex;\n",
              "      flex-wrap:wrap;\n",
              "      gap: 12px;\n",
              "    }\n",
              "\n",
              "    .colab-df-convert {\n",
              "      background-color: #E8F0FE;\n",
              "      border: none;\n",
              "      border-radius: 50%;\n",
              "      cursor: pointer;\n",
              "      display: none;\n",
              "      fill: #1967D2;\n",
              "      height: 32px;\n",
              "      padding: 0 0 0 0;\n",
              "      width: 32px;\n",
              "    }\n",
              "\n",
              "    .colab-df-convert:hover {\n",
              "      background-color: #E2EBFA;\n",
              "      box-shadow: 0px 1px 2px rgba(60, 64, 67, 0.3), 0px 1px 3px 1px rgba(60, 64, 67, 0.15);\n",
              "      fill: #174EA6;\n",
              "    }\n",
              "\n",
              "    [theme=dark] .colab-df-convert {\n",
              "      background-color: #3B4455;\n",
              "      fill: #D2E3FC;\n",
              "    }\n",
              "\n",
              "    [theme=dark] .colab-df-convert:hover {\n",
              "      background-color: #434B5C;\n",
              "      box-shadow: 0px 1px 3px 1px rgba(0, 0, 0, 0.15);\n",
              "      filter: drop-shadow(0px 1px 2px rgba(0, 0, 0, 0.3));\n",
              "      fill: #FFFFFF;\n",
              "    }\n",
              "  </style>\n",
              "\n",
              "      <script>\n",
              "        const buttonEl =\n",
              "          document.querySelector('#df-6bd0ea5b-dde0-44c4-a5e6-e58056033a05 button.colab-df-convert');\n",
              "        buttonEl.style.display =\n",
              "          google.colab.kernel.accessAllowed ? 'block' : 'none';\n",
              "\n",
              "        async function convertToInteractive(key) {\n",
              "          const element = document.querySelector('#df-6bd0ea5b-dde0-44c4-a5e6-e58056033a05');\n",
              "          const dataTable =\n",
              "            await google.colab.kernel.invokeFunction('convertToInteractive',\n",
              "                                                     [key], {});\n",
              "          if (!dataTable) return;\n",
              "\n",
              "          const docLinkHtml = 'Like what you see? Visit the ' +\n",
              "            '<a target=\"_blank\" href=https://colab.research.google.com/notebooks/data_table.ipynb>data table notebook</a>'\n",
              "            + ' to learn more about interactive tables.';\n",
              "          element.innerHTML = '';\n",
              "          dataTable['output_type'] = 'display_data';\n",
              "          await google.colab.output.renderOutput(dataTable, element);\n",
              "          const docLink = document.createElement('div');\n",
              "          docLink.innerHTML = docLinkHtml;\n",
              "          element.appendChild(docLink);\n",
              "        }\n",
              "      </script>\n",
              "    </div>\n",
              "  </div>\n",
              "  "
            ]
          },
          "metadata": {},
          "execution_count": 5
        }
      ]
    },
    {
      "cell_type": "markdown",
      "source": [
        "Corrigimos a ordem, mas o index ainda está com problemas. Então vamos corrigi-lo."
      ],
      "metadata": {
        "id": "E4tejFbyZEV_"
      }
    },
    {
      "cell_type": "code",
      "source": [
        "bednet = bednet.reset_index()\n",
        "bednet.head()\n"
      ],
      "metadata": {
        "colab": {
          "base_uri": "https://localhost:8080/",
          "height": 206
        },
        "id": "YvCh64hjVb6Y",
        "outputId": "f96a7dff-52e9-4d74-cd31-bc38d0ef61e2"
      },
      "execution_count": null,
      "outputs": [
        {
          "output_type": "execute_result",
          "data": {
            "text/plain": [
              "   index    Entity Code  Year  \\\n",
              "0     76    Gambia  GMB  2020   \n",
              "1    122   Liberia  LBR  2020   \n",
              "2    277  Zimbabwe  ZWE  2019   \n",
              "3     84     Ghana  GHA  2019   \n",
              "4    202   Senegal  SEN  2019   \n",
              "\n",
              "   Use of insecticide-treated bed nets (% of under-5 population)  \n",
              "0                                          44.000000              \n",
              "1                                          44.299999              \n",
              "2                                          14.900000              \n",
              "3                                          54.099998              \n",
              "4                                          65.400002              "
            ],
            "text/html": [
              "\n",
              "  <div id=\"df-2cbdd07f-bd9b-42a9-a283-e53926a5a122\">\n",
              "    <div class=\"colab-df-container\">\n",
              "      <div>\n",
              "<style scoped>\n",
              "    .dataframe tbody tr th:only-of-type {\n",
              "        vertical-align: middle;\n",
              "    }\n",
              "\n",
              "    .dataframe tbody tr th {\n",
              "        vertical-align: top;\n",
              "    }\n",
              "\n",
              "    .dataframe thead th {\n",
              "        text-align: right;\n",
              "    }\n",
              "</style>\n",
              "<table border=\"1\" class=\"dataframe\">\n",
              "  <thead>\n",
              "    <tr style=\"text-align: right;\">\n",
              "      <th></th>\n",
              "      <th>index</th>\n",
              "      <th>Entity</th>\n",
              "      <th>Code</th>\n",
              "      <th>Year</th>\n",
              "      <th>Use of insecticide-treated bed nets (% of under-5 population)</th>\n",
              "    </tr>\n",
              "  </thead>\n",
              "  <tbody>\n",
              "    <tr>\n",
              "      <th>0</th>\n",
              "      <td>76</td>\n",
              "      <td>Gambia</td>\n",
              "      <td>GMB</td>\n",
              "      <td>2020</td>\n",
              "      <td>44.000000</td>\n",
              "    </tr>\n",
              "    <tr>\n",
              "      <th>1</th>\n",
              "      <td>122</td>\n",
              "      <td>Liberia</td>\n",
              "      <td>LBR</td>\n",
              "      <td>2020</td>\n",
              "      <td>44.299999</td>\n",
              "    </tr>\n",
              "    <tr>\n",
              "      <th>2</th>\n",
              "      <td>277</td>\n",
              "      <td>Zimbabwe</td>\n",
              "      <td>ZWE</td>\n",
              "      <td>2019</td>\n",
              "      <td>14.900000</td>\n",
              "    </tr>\n",
              "    <tr>\n",
              "      <th>3</th>\n",
              "      <td>84</td>\n",
              "      <td>Ghana</td>\n",
              "      <td>GHA</td>\n",
              "      <td>2019</td>\n",
              "      <td>54.099998</td>\n",
              "    </tr>\n",
              "    <tr>\n",
              "      <th>4</th>\n",
              "      <td>202</td>\n",
              "      <td>Senegal</td>\n",
              "      <td>SEN</td>\n",
              "      <td>2019</td>\n",
              "      <td>65.400002</td>\n",
              "    </tr>\n",
              "  </tbody>\n",
              "</table>\n",
              "</div>\n",
              "      <button class=\"colab-df-convert\" onclick=\"convertToInteractive('df-2cbdd07f-bd9b-42a9-a283-e53926a5a122')\"\n",
              "              title=\"Convert this dataframe to an interactive table.\"\n",
              "              style=\"display:none;\">\n",
              "        \n",
              "  <svg xmlns=\"http://www.w3.org/2000/svg\" height=\"24px\"viewBox=\"0 0 24 24\"\n",
              "       width=\"24px\">\n",
              "    <path d=\"M0 0h24v24H0V0z\" fill=\"none\"/>\n",
              "    <path d=\"M18.56 5.44l.94 2.06.94-2.06 2.06-.94-2.06-.94-.94-2.06-.94 2.06-2.06.94zm-11 1L8.5 8.5l.94-2.06 2.06-.94-2.06-.94L8.5 2.5l-.94 2.06-2.06.94zm10 10l.94 2.06.94-2.06 2.06-.94-2.06-.94-.94-2.06-.94 2.06-2.06.94z\"/><path d=\"M17.41 7.96l-1.37-1.37c-.4-.4-.92-.59-1.43-.59-.52 0-1.04.2-1.43.59L10.3 9.45l-7.72 7.72c-.78.78-.78 2.05 0 2.83L4 21.41c.39.39.9.59 1.41.59.51 0 1.02-.2 1.41-.59l7.78-7.78 2.81-2.81c.8-.78.8-2.07 0-2.86zM5.41 20L4 18.59l7.72-7.72 1.47 1.35L5.41 20z\"/>\n",
              "  </svg>\n",
              "      </button>\n",
              "      \n",
              "  <style>\n",
              "    .colab-df-container {\n",
              "      display:flex;\n",
              "      flex-wrap:wrap;\n",
              "      gap: 12px;\n",
              "    }\n",
              "\n",
              "    .colab-df-convert {\n",
              "      background-color: #E8F0FE;\n",
              "      border: none;\n",
              "      border-radius: 50%;\n",
              "      cursor: pointer;\n",
              "      display: none;\n",
              "      fill: #1967D2;\n",
              "      height: 32px;\n",
              "      padding: 0 0 0 0;\n",
              "      width: 32px;\n",
              "    }\n",
              "\n",
              "    .colab-df-convert:hover {\n",
              "      background-color: #E2EBFA;\n",
              "      box-shadow: 0px 1px 2px rgba(60, 64, 67, 0.3), 0px 1px 3px 1px rgba(60, 64, 67, 0.15);\n",
              "      fill: #174EA6;\n",
              "    }\n",
              "\n",
              "    [theme=dark] .colab-df-convert {\n",
              "      background-color: #3B4455;\n",
              "      fill: #D2E3FC;\n",
              "    }\n",
              "\n",
              "    [theme=dark] .colab-df-convert:hover {\n",
              "      background-color: #434B5C;\n",
              "      box-shadow: 0px 1px 3px 1px rgba(0, 0, 0, 0.15);\n",
              "      filter: drop-shadow(0px 1px 2px rgba(0, 0, 0, 0.3));\n",
              "      fill: #FFFFFF;\n",
              "    }\n",
              "  </style>\n",
              "\n",
              "      <script>\n",
              "        const buttonEl =\n",
              "          document.querySelector('#df-2cbdd07f-bd9b-42a9-a283-e53926a5a122 button.colab-df-convert');\n",
              "        buttonEl.style.display =\n",
              "          google.colab.kernel.accessAllowed ? 'block' : 'none';\n",
              "\n",
              "        async function convertToInteractive(key) {\n",
              "          const element = document.querySelector('#df-2cbdd07f-bd9b-42a9-a283-e53926a5a122');\n",
              "          const dataTable =\n",
              "            await google.colab.kernel.invokeFunction('convertToInteractive',\n",
              "                                                     [key], {});\n",
              "          if (!dataTable) return;\n",
              "\n",
              "          const docLinkHtml = 'Like what you see? Visit the ' +\n",
              "            '<a target=\"_blank\" href=https://colab.research.google.com/notebooks/data_table.ipynb>data table notebook</a>'\n",
              "            + ' to learn more about interactive tables.';\n",
              "          element.innerHTML = '';\n",
              "          dataTable['output_type'] = 'display_data';\n",
              "          await google.colab.output.renderOutput(dataTable, element);\n",
              "          const docLink = document.createElement('div');\n",
              "          docLink.innerHTML = docLinkHtml;\n",
              "          element.appendChild(docLink);\n",
              "        }\n",
              "      </script>\n",
              "    </div>\n",
              "  </div>\n",
              "  "
            ]
          },
          "metadata": {},
          "execution_count": 6
        }
      ]
    },
    {
      "cell_type": "markdown",
      "source": [
        "Como poder ver, refiz um index devido, agora deletaremos o index antigo e arrumaremos a organização"
      ],
      "metadata": {
        "id": "ugCDqpxUetkr"
      }
    },
    {
      "cell_type": "code",
      "source": [
        "bednet = bednet.drop(['index'], axis=1)\n",
        "bednet.head()"
      ],
      "metadata": {
        "colab": {
          "base_uri": "https://localhost:8080/",
          "height": 206
        },
        "id": "xQOSF7FKe60a",
        "outputId": "05a1c143-9099-4f76-ed76-91a68380ceaa"
      },
      "execution_count": null,
      "outputs": [
        {
          "output_type": "execute_result",
          "data": {
            "text/plain": [
              "     Entity Code  Year  \\\n",
              "0    Gambia  GMB  2020   \n",
              "1   Liberia  LBR  2020   \n",
              "2  Zimbabwe  ZWE  2019   \n",
              "3     Ghana  GHA  2019   \n",
              "4   Senegal  SEN  2019   \n",
              "\n",
              "   Use of insecticide-treated bed nets (% of under-5 population)  \n",
              "0                                          44.000000              \n",
              "1                                          44.299999              \n",
              "2                                          14.900000              \n",
              "3                                          54.099998              \n",
              "4                                          65.400002              "
            ],
            "text/html": [
              "\n",
              "  <div id=\"df-5bdc7932-8377-4f8a-8ed4-d0c9ca8aef5f\">\n",
              "    <div class=\"colab-df-container\">\n",
              "      <div>\n",
              "<style scoped>\n",
              "    .dataframe tbody tr th:only-of-type {\n",
              "        vertical-align: middle;\n",
              "    }\n",
              "\n",
              "    .dataframe tbody tr th {\n",
              "        vertical-align: top;\n",
              "    }\n",
              "\n",
              "    .dataframe thead th {\n",
              "        text-align: right;\n",
              "    }\n",
              "</style>\n",
              "<table border=\"1\" class=\"dataframe\">\n",
              "  <thead>\n",
              "    <tr style=\"text-align: right;\">\n",
              "      <th></th>\n",
              "      <th>Entity</th>\n",
              "      <th>Code</th>\n",
              "      <th>Year</th>\n",
              "      <th>Use of insecticide-treated bed nets (% of under-5 population)</th>\n",
              "    </tr>\n",
              "  </thead>\n",
              "  <tbody>\n",
              "    <tr>\n",
              "      <th>0</th>\n",
              "      <td>Gambia</td>\n",
              "      <td>GMB</td>\n",
              "      <td>2020</td>\n",
              "      <td>44.000000</td>\n",
              "    </tr>\n",
              "    <tr>\n",
              "      <th>1</th>\n",
              "      <td>Liberia</td>\n",
              "      <td>LBR</td>\n",
              "      <td>2020</td>\n",
              "      <td>44.299999</td>\n",
              "    </tr>\n",
              "    <tr>\n",
              "      <th>2</th>\n",
              "      <td>Zimbabwe</td>\n",
              "      <td>ZWE</td>\n",
              "      <td>2019</td>\n",
              "      <td>14.900000</td>\n",
              "    </tr>\n",
              "    <tr>\n",
              "      <th>3</th>\n",
              "      <td>Ghana</td>\n",
              "      <td>GHA</td>\n",
              "      <td>2019</td>\n",
              "      <td>54.099998</td>\n",
              "    </tr>\n",
              "    <tr>\n",
              "      <th>4</th>\n",
              "      <td>Senegal</td>\n",
              "      <td>SEN</td>\n",
              "      <td>2019</td>\n",
              "      <td>65.400002</td>\n",
              "    </tr>\n",
              "  </tbody>\n",
              "</table>\n",
              "</div>\n",
              "      <button class=\"colab-df-convert\" onclick=\"convertToInteractive('df-5bdc7932-8377-4f8a-8ed4-d0c9ca8aef5f')\"\n",
              "              title=\"Convert this dataframe to an interactive table.\"\n",
              "              style=\"display:none;\">\n",
              "        \n",
              "  <svg xmlns=\"http://www.w3.org/2000/svg\" height=\"24px\"viewBox=\"0 0 24 24\"\n",
              "       width=\"24px\">\n",
              "    <path d=\"M0 0h24v24H0V0z\" fill=\"none\"/>\n",
              "    <path d=\"M18.56 5.44l.94 2.06.94-2.06 2.06-.94-2.06-.94-.94-2.06-.94 2.06-2.06.94zm-11 1L8.5 8.5l.94-2.06 2.06-.94-2.06-.94L8.5 2.5l-.94 2.06-2.06.94zm10 10l.94 2.06.94-2.06 2.06-.94-2.06-.94-.94-2.06-.94 2.06-2.06.94z\"/><path d=\"M17.41 7.96l-1.37-1.37c-.4-.4-.92-.59-1.43-.59-.52 0-1.04.2-1.43.59L10.3 9.45l-7.72 7.72c-.78.78-.78 2.05 0 2.83L4 21.41c.39.39.9.59 1.41.59.51 0 1.02-.2 1.41-.59l7.78-7.78 2.81-2.81c.8-.78.8-2.07 0-2.86zM5.41 20L4 18.59l7.72-7.72 1.47 1.35L5.41 20z\"/>\n",
              "  </svg>\n",
              "      </button>\n",
              "      \n",
              "  <style>\n",
              "    .colab-df-container {\n",
              "      display:flex;\n",
              "      flex-wrap:wrap;\n",
              "      gap: 12px;\n",
              "    }\n",
              "\n",
              "    .colab-df-convert {\n",
              "      background-color: #E8F0FE;\n",
              "      border: none;\n",
              "      border-radius: 50%;\n",
              "      cursor: pointer;\n",
              "      display: none;\n",
              "      fill: #1967D2;\n",
              "      height: 32px;\n",
              "      padding: 0 0 0 0;\n",
              "      width: 32px;\n",
              "    }\n",
              "\n",
              "    .colab-df-convert:hover {\n",
              "      background-color: #E2EBFA;\n",
              "      box-shadow: 0px 1px 2px rgba(60, 64, 67, 0.3), 0px 1px 3px 1px rgba(60, 64, 67, 0.15);\n",
              "      fill: #174EA6;\n",
              "    }\n",
              "\n",
              "    [theme=dark] .colab-df-convert {\n",
              "      background-color: #3B4455;\n",
              "      fill: #D2E3FC;\n",
              "    }\n",
              "\n",
              "    [theme=dark] .colab-df-convert:hover {\n",
              "      background-color: #434B5C;\n",
              "      box-shadow: 0px 1px 3px 1px rgba(0, 0, 0, 0.15);\n",
              "      filter: drop-shadow(0px 1px 2px rgba(0, 0, 0, 0.3));\n",
              "      fill: #FFFFFF;\n",
              "    }\n",
              "  </style>\n",
              "\n",
              "      <script>\n",
              "        const buttonEl =\n",
              "          document.querySelector('#df-5bdc7932-8377-4f8a-8ed4-d0c9ca8aef5f button.colab-df-convert');\n",
              "        buttonEl.style.display =\n",
              "          google.colab.kernel.accessAllowed ? 'block' : 'none';\n",
              "\n",
              "        async function convertToInteractive(key) {\n",
              "          const element = document.querySelector('#df-5bdc7932-8377-4f8a-8ed4-d0c9ca8aef5f');\n",
              "          const dataTable =\n",
              "            await google.colab.kernel.invokeFunction('convertToInteractive',\n",
              "                                                     [key], {});\n",
              "          if (!dataTable) return;\n",
              "\n",
              "          const docLinkHtml = 'Like what you see? Visit the ' +\n",
              "            '<a target=\"_blank\" href=https://colab.research.google.com/notebooks/data_table.ipynb>data table notebook</a>'\n",
              "            + ' to learn more about interactive tables.';\n",
              "          element.innerHTML = '';\n",
              "          dataTable['output_type'] = 'display_data';\n",
              "          await google.colab.output.renderOutput(dataTable, element);\n",
              "          const docLink = document.createElement('div');\n",
              "          docLink.innerHTML = docLinkHtml;\n",
              "          element.appendChild(docLink);\n",
              "        }\n",
              "      </script>\n",
              "    </div>\n",
              "  </div>\n",
              "  "
            ]
          },
          "metadata": {},
          "execution_count": 7
        }
      ]
    },
    {
      "cell_type": "code",
      "source": [
        "# Pegando informações do df bednet"
      ],
      "metadata": {
        "id": "Z3i5Mm_6Vb-8"
      },
      "execution_count": null,
      "outputs": []
    },
    {
      "cell_type": "code",
      "source": [
        "# Pegando informações do df bednet"
      ],
      "metadata": {
        "id": "Yk2kVNvTVcAt"
      },
      "execution_count": null,
      "outputs": []
    },
    {
      "cell_type": "markdown",
      "source": [
        "##D-Construção de Modelos"
      ],
      "metadata": {
        "id": "KxY3vmaiCmjl"
      }
    },
    {
      "cell_type": "code",
      "source": [],
      "metadata": {
        "id": "7xGdR_APDbBG"
      },
      "execution_count": null,
      "outputs": []
    },
    {
      "cell_type": "markdown",
      "source": [
        "##E-Avaliando os Resultados do Projeto de DS"
      ],
      "metadata": {
        "id": "GVxo1tVRCpwx"
      }
    },
    {
      "cell_type": "markdown",
      "source": [
        "##F-Implementação"
      ],
      "metadata": {
        "id": "Q_RtZllhCzb7"
      }
    },
    {
      "cell_type": "markdown",
      "source": [
        "##Conclusões"
      ],
      "metadata": {
        "id": "euDW-FJZC3s6"
      }
    }
  ]
}